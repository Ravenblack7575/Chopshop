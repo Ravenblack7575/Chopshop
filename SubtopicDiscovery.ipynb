{
 "cells": [
  {
   "cell_type": "code",
   "execution_count": 1,
   "id": "6283b9f7",
   "metadata": {},
   "outputs": [],
   "source": [
    "import pandas as pd"
   ]
  },
  {
   "cell_type": "code",
   "execution_count": 2,
   "id": "dc1c91b3",
   "metadata": {},
   "outputs": [],
   "source": [
    "doc = pd.read_csv('./output/contents.csv')"
   ]
  },
  {
   "cell_type": "code",
   "execution_count": 3,
   "id": "ab69419a",
   "metadata": {},
   "outputs": [
    {
     "data": {
      "text/html": [
       "<div>\n",
       "<style scoped>\n",
       "    .dataframe tbody tr th:only-of-type {\n",
       "        vertical-align: middle;\n",
       "    }\n",
       "\n",
       "    .dataframe tbody tr th {\n",
       "        vertical-align: top;\n",
       "    }\n",
       "\n",
       "    .dataframe thead th {\n",
       "        text-align: right;\n",
       "    }\n",
       "</style>\n",
       "<table border=\"1\" class=\"dataframe\">\n",
       "  <thead>\n",
       "    <tr style=\"text-align: right;\">\n",
       "      <th></th>\n",
       "      <th>index</th>\n",
       "      <th>contents</th>\n",
       "    </tr>\n",
       "  </thead>\n",
       "  <tbody>\n",
       "    <tr>\n",
       "      <th>0</th>\n",
       "      <td>1</td>\n",
       "      <td>CLINICAL MICROBIOLOGY REVIEWS , Oct. 2004, p. ...</td>\n",
       "    </tr>\n",
       "    <tr>\n",
       "      <th>1</th>\n",
       "      <td>2</td>\n",
       "      <td>Leading Edge\\nPrimer\\nBenchmarking Metagenomic...</td>\n",
       "    </tr>\n",
       "    <tr>\n",
       "      <th>2</th>\n",
       "      <td>3</td>\n",
       "      <td>Narrative Reviews\\nComputational biology: Role...</td>\n",
       "    </tr>\n",
       "    <tr>\n",
       "      <th>3</th>\n",
       "      <td>4</td>\n",
       "      <td>Contents lists available atScienceDirect\\nMicr...</td>\n",
       "    </tr>\n",
       "    <tr>\n",
       "      <th>4</th>\n",
       "      <td>5</td>\n",
       "      <td>Review\\nWhole genome sequencing options for ba...</td>\n",
       "    </tr>\n",
       "  </tbody>\n",
       "</table>\n",
       "</div>"
      ],
      "text/plain": [
       "   index                                           contents\n",
       "0      1  CLINICAL MICROBIOLOGY REVIEWS , Oct. 2004, p. ...\n",
       "1      2  Leading Edge\\nPrimer\\nBenchmarking Metagenomic...\n",
       "2      3  Narrative Reviews\\nComputational biology: Role...\n",
       "3      4  Contents lists available atScienceDirect\\nMicr...\n",
       "4      5  Review\\nWhole genome sequencing options for ba..."
      ]
     },
     "execution_count": 3,
     "metadata": {},
     "output_type": "execute_result"
    }
   ],
   "source": [
    "doc.head()"
   ]
  },
  {
   "cell_type": "code",
   "execution_count": 4,
   "id": "3c65e4f4",
   "metadata": {},
   "outputs": [
    {
     "data": {
      "text/plain": [
       "index       0\n",
       "contents    0\n",
       "dtype: int64"
      ]
     },
     "execution_count": 4,
     "metadata": {},
     "output_type": "execute_result"
    }
   ],
   "source": [
    "doc.isnull().sum()"
   ]
  },
  {
   "cell_type": "code",
   "execution_count": 5,
   "id": "9c5c127b",
   "metadata": {},
   "outputs": [],
   "source": [
    "#doc.drop(columns=['PMCID', 'NIHMS ID', 'DOI'], inplace=True) #not necessary but useful if the empty columns causes issues"
   ]
  },
  {
   "cell_type": "code",
   "execution_count": 6,
   "id": "bbb49dfa",
   "metadata": {},
   "outputs": [
    {
     "data": {
      "text/plain": [
       "(80, 2)"
      ]
     },
     "execution_count": 6,
     "metadata": {},
     "output_type": "execute_result"
    }
   ],
   "source": [
    "doc.shape"
   ]
  },
  {
   "cell_type": "code",
   "execution_count": 7,
   "id": "d8b5e4ee",
   "metadata": {},
   "outputs": [],
   "source": [
    "from sklearn.feature_extraction.text import CountVectorizer"
   ]
  },
  {
   "cell_type": "code",
   "execution_count": 8,
   "id": "edccf49c",
   "metadata": {},
   "outputs": [],
   "source": [
    "cv = CountVectorizer(max_df=0.9, stop_words='english')"
   ]
  },
  {
   "cell_type": "code",
   "execution_count": 9,
   "id": "83172937",
   "metadata": {},
   "outputs": [],
   "source": [
    "dtm = cv.fit_transform(doc['contents'])"
   ]
  },
  {
   "cell_type": "code",
   "execution_count": 10,
   "id": "eb6ab695",
   "metadata": {},
   "outputs": [
    {
     "data": {
      "text/plain": [
       "<80x9723 sparse matrix of type '<class 'numpy.int64'>'\n",
       "\twith 21864 stored elements in Compressed Sparse Row format>"
      ]
     },
     "execution_count": 10,
     "metadata": {},
     "output_type": "execute_result"
    }
   ],
   "source": [
    "dtm"
   ]
  },
  {
   "cell_type": "code",
   "execution_count": 11,
   "id": "ee84c346",
   "metadata": {},
   "outputs": [],
   "source": [
    "from sklearn.decomposition import LatentDirichletAllocation"
   ]
  },
  {
   "cell_type": "code",
   "execution_count": 34,
   "id": "93703c4d",
   "metadata": {},
   "outputs": [],
   "source": [
    "LDA = LatentDirichletAllocation(n_components=5,random_state=19)"
   ]
  },
  {
   "cell_type": "code",
   "execution_count": 35,
   "id": "f8333271",
   "metadata": {},
   "outputs": [
    {
     "data": {
      "text/plain": [
       "LatentDirichletAllocation(n_components=5, random_state=19)"
      ]
     },
     "execution_count": 35,
     "metadata": {},
     "output_type": "execute_result"
    }
   ],
   "source": [
    "LDA.fit(dtm)"
   ]
  },
  {
   "cell_type": "code",
   "execution_count": 36,
   "id": "5d6eada5",
   "metadata": {},
   "outputs": [
    {
     "name": "stdout",
     "output_type": "stream",
     "text": [
      "The top twenty words for Topic #0\n",
      "['fr', 'org', 'zt', 'taxonomic', 'kraken', 'strains', '10', 'kzn', 'analysis', '16s', 'rrna', 'bacterial', 'diversity', 'article', 'gene', 'ok', 'microbiology', 'zo', 'species', 'university']\n",
      "\n",
      "\n",
      "The top twenty words for Topic #1\n",
      "['used', 'core', 'article', 'sequences', '10', 'sequence', 'usa', '16s', 'genomes', 'genes', 'gene', 'analysis', 'university', 'et', 'learning', 'data', 'al', 'sequencing', 'species', 'genome']\n",
      "\n",
      "\n",
      "The top twenty words for Topic #2\n",
      "['database', 'bacterial', 'reference', 'genome', 'doi', 'sequencing', 'sequence', 'org', 'machine', 'singapore', 'university', 'metagenomic', '2021', 'pathogens', 'nasal', 'surveillance', 'based', '10', 'deep', 'learning']\n",
      "\n",
      "\n",
      "The top twenty words for Topic #3\n",
      "['com', 'identiﬁcation', 'environmental', 'melioidosis', 'health', 'university', 'soil', 'doi', 'disease', 'article', 'https', 'burkholderia', 'sequencing', 'species', 'org', 'analysis', 'based', '2022', '10', 'pseudomallei']\n",
      "\n",
      "\n",
      "The top twenty words for Topic #4\n",
      "['institute', 'learning', 'amr', 'machine', 'science', 'methods', 'creative', 'analysis', 'commons', 'microbial', '10', 'sequencing', '2022', 'data', 'genome', 'bioinformatics', 'article', 'al', 'research', 'university']\n",
      "\n",
      "\n"
     ]
    }
   ],
   "source": [
    "for i, topic in enumerate(LDA.components_):\n",
    "    print(f'The top twenty words for Topic #{i}')\n",
    "    print([cv.get_feature_names_out()[subject] for subject in topic.argsort()[-20:]])\n",
    "    print('\\n')"
   ]
  },
  {
   "cell_type": "code",
   "execution_count": 37,
   "id": "3654a236",
   "metadata": {},
   "outputs": [],
   "source": [
    "topic_results = LDA.transform(dtm)"
   ]
  },
  {
   "cell_type": "code",
   "execution_count": 38,
   "id": "ac1d969d",
   "metadata": {},
   "outputs": [
    {
     "data": {
      "text/plain": [
       "0"
      ]
     },
     "execution_count": 38,
     "metadata": {},
     "output_type": "execute_result"
    }
   ],
   "source": [
    "topic_results[0].argmax()"
   ]
  },
  {
   "cell_type": "code",
   "execution_count": 39,
   "id": "135b2d34",
   "metadata": {},
   "outputs": [],
   "source": [
    "doc['Topic'] = topic_results.argmax(axis=1)"
   ]
  },
  {
   "cell_type": "code",
   "execution_count": 40,
   "id": "5691a288",
   "metadata": {},
   "outputs": [
    {
     "data": {
      "text/html": [
       "<div>\n",
       "<style scoped>\n",
       "    .dataframe tbody tr th:only-of-type {\n",
       "        vertical-align: middle;\n",
       "    }\n",
       "\n",
       "    .dataframe tbody tr th {\n",
       "        vertical-align: top;\n",
       "    }\n",
       "\n",
       "    .dataframe thead th {\n",
       "        text-align: right;\n",
       "    }\n",
       "</style>\n",
       "<table border=\"1\" class=\"dataframe\">\n",
       "  <thead>\n",
       "    <tr style=\"text-align: right;\">\n",
       "      <th></th>\n",
       "      <th>index</th>\n",
       "      <th>contents</th>\n",
       "      <th>Topic</th>\n",
       "    </tr>\n",
       "  </thead>\n",
       "  <tbody>\n",
       "    <tr>\n",
       "      <th>0</th>\n",
       "      <td>1</td>\n",
       "      <td>CLINICAL MICROBIOLOGY REVIEWS , Oct. 2004, p. ...</td>\n",
       "      <td>0</td>\n",
       "    </tr>\n",
       "    <tr>\n",
       "      <th>1</th>\n",
       "      <td>2</td>\n",
       "      <td>Leading Edge\\nPrimer\\nBenchmarking Metagenomic...</td>\n",
       "      <td>1</td>\n",
       "    </tr>\n",
       "    <tr>\n",
       "      <th>2</th>\n",
       "      <td>3</td>\n",
       "      <td>Narrative Reviews\\nComputational biology: Role...</td>\n",
       "      <td>1</td>\n",
       "    </tr>\n",
       "    <tr>\n",
       "      <th>3</th>\n",
       "      <td>4</td>\n",
       "      <td>Contents lists available atScienceDirect\\nMicr...</td>\n",
       "      <td>3</td>\n",
       "    </tr>\n",
       "    <tr>\n",
       "      <th>4</th>\n",
       "      <td>5</td>\n",
       "      <td>Review\\nWhole genome sequencing options for ba...</td>\n",
       "      <td>1</td>\n",
       "    </tr>\n",
       "  </tbody>\n",
       "</table>\n",
       "</div>"
      ],
      "text/plain": [
       "   index                                           contents  Topic\n",
       "0      1  CLINICAL MICROBIOLOGY REVIEWS , Oct. 2004, p. ...      0\n",
       "1      2  Leading Edge\\nPrimer\\nBenchmarking Metagenomic...      1\n",
       "2      3  Narrative Reviews\\nComputational biology: Role...      1\n",
       "3      4  Contents lists available atScienceDirect\\nMicr...      3\n",
       "4      5  Review\\nWhole genome sequencing options for ba...      1"
      ]
     },
     "execution_count": 40,
     "metadata": {},
     "output_type": "execute_result"
    }
   ],
   "source": [
    "doc.head()"
   ]
  },
  {
   "cell_type": "code",
   "execution_count": 41,
   "id": "08f962bd",
   "metadata": {},
   "outputs": [],
   "source": [
    "%matplotlib inline\n",
    "\n",
    "import matplotlib.pyplot as plt"
   ]
  },
  {
   "cell_type": "code",
   "execution_count": null,
   "id": "8cd19726",
   "metadata": {},
   "outputs": [],
   "source": []
  },
  {
   "cell_type": "code",
   "execution_count": 42,
   "id": "1254d106",
   "metadata": {},
   "outputs": [
    {
     "data": {
      "image/png": "[encoded data removed]",
      "text/plain": [
       "<Figure size 432x288 with 1 Axes>"
      ]
     },
     "metadata": {
      "needs_background": "light"
     },
     "output_type": "display_data"
    }
   ],
   "source": [
    "plt.bar(doc['Topic'], doc['index'])\n",
    "plt.show()"
   ]
  },
  {
   "cell_type": "code",
   "execution_count": null,
   "id": "ee2285bb",
   "metadata": {},
   "outputs": [],
   "source": [
    "#future improvements:\n",
    "#relevant stop words\n",
    "#options for stop words"
   ]
  },
  {
   "cell_type": "raw",
   "id": "11a46275",
   "metadata": {},
   "source": []
  },
  {
   "cell_type": "code",
   "execution_count": null,
   "id": "9c36d860",
   "metadata": {},
   "outputs": [],
   "source": []
  },
  {
   "cell_type": "code",
   "execution_count": null,
   "id": "11621a5b",
   "metadata": {},
   "outputs": [],
   "source": []
  }
 ],
 "metadata": {
  "kernelspec": {
   "display_name": "Python 3 (ipykernel)",
   "language": "python",
   "name": "python3"
  },
  "language_info": {
   "codemirror_mode": {
    "name": "ipython",
    "version": 3
   },
   "file_extension": ".py",
   "mimetype": "text/x-python",
   "name": "python",
   "nbconvert_exporter": "python",
   "pygments_lexer": "ipython3",
   "version": "3.9.12"
  }
 },
 "nbformat": 4,
 "nbformat_minor": 5
}
