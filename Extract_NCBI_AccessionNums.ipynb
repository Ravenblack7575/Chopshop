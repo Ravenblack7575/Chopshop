{
 "cells": [
  {
   "cell_type": "markdown",
   "id": "22960450",
   "metadata": {},
   "source": [
    "## Extraction of Accession Numbers from PDF documents\n",
    "\n",
    "\n",
    "This notebook is for extraction all referenced NCBI accession numbers from a journal paper.\n",
    "\n",
    "\n",
    "Information:\n",
    "\n",
    "### Ref Seq Numbers format\n",
    "\n",
    "2 letters, '_' , 1 to 6 numbers.\n",
    "r'\\w{2}_\\d{1,6}'\n",
    "\n",
    "\n",
    "### Genbank Numbers format\n",
    "\n",
    "DDBJ/EMBL/GenBank Accession Prefix Format\n",
    "The format for GenBank Accession numbers are:\n",
    "\n",
    "Nucleotide:    \n",
    "1 letter + 5 numerals\n",
    "r'\\w\\d{5}'\n",
    "\n",
    "2 letters + 6 numerals\n",
    "r'\\w{2}\\d{5}'\n",
    "\n",
    "2 letters + 8 numerals\n",
    "r'\\w{2}\\d{8}'\n",
    "\n",
    "r'\\w{1,2}\\d{5,8}\n",
    "\n",
    "\n",
    "Protein:       \n",
    "3 letters + 5 numerals\n",
    "r'\\w{3}\\d{5}'\n",
    "\n",
    "\n",
    "3 letters + 7 numerals\n",
    "r'\\w{3}\\d{5|7}'\n",
    "\n",
    "\n",
    "WGS:           \n",
    "4 letters + 2 numerals for WGS assembly version + 6 or more numerals\n",
    "r'\\w{4}\\d{2}\\d{6,}'\n",
    "\n",
    "6 letters + 2 numerals for WGS assembly version + 7 or more numerals\n",
    "r'\\w{6}\\d{2}\\d{7,}'               \n",
    "               \n",
    "               \n",
    "### SRA numbers format\n",
    "\n",
    "Bioproject\n",
    "5 letters + 6 numbers\n",
    "r'[A-Z]{5}\\d{6,}'\n",
    "\n",
    "Biosample\n",
    "4 letters + numbers\n",
    "r'\\w{4}\\d{5,}'\n",
    "\n",
    "Experiment\n",
    "3 letters + numbers\n",
    "r'\\w{4}\\d{5,}'\n",
    "\n",
    "Run numbers\n",
    "3 letters + numbers\n",
    "r'\\w{4}\\d{5,}'\n",
    "\n"
   ]
  },
  {
   "cell_type": "code",
   "execution_count": 1,
   "id": "4de6beda",
   "metadata": {},
   "outputs": [],
   "source": [
    "import PyPDF2\n",
    "import re"
   ]
  },
  {
   "cell_type": "code",
   "execution_count": 2,
   "id": "b5b3fc8f",
   "metadata": {},
   "outputs": [],
   "source": [
    "#pattern_index\n",
    "\n",
    "refseq_pattern = r'[A-Z]{2}_\\d{1,6}'\n",
    "genbank_nucleotide_pattern = r'[A-Z]{1,2}\\d{5,8}'\n",
    "genbank_protein_pattern = r'[A-Z]{3}\\d{5|7}'\n",
    "genbank_WGS_pattern = r'[A-Z]{4|6}\\d{2}\\d{6,}' \n",
    "sra_bioproject_pattern = r'[A-Z]{5}\\d{6,}'\n",
    "sra_biosample_pattern = r'[A-Z]{4}\\d{5,}'\n",
    "sra_experiment_pattern = r'[A-Z]{4}\\d{5,}'\n",
    "sra_runnumber_pattern =r'[A-Z]{4}\\d{5,}'\n",
    "\n",
    "\n",
    "pattern_choice_dict = {1:refseq_pattern, \n",
    "                      2:genbank_nucleotide_pattern,\n",
    "                      3:genbank_protein_pattern,\n",
    "                      4:genbank_WGS_pattern,\n",
    "                      5:sra_bioproject_pattern,\n",
    "                      6:sra_biosample_pattern,\n",
    "                      7:sra_experiment_pattern,\n",
    "                      8:sra_runnumber_pattern}\n",
    "\n",
    "#print(pattern_choice_dict[1])"
   ]
  },
  {
   "cell_type": "code",
   "execution_count": 3,
   "id": "1e48f632",
   "metadata": {},
   "outputs": [],
   "source": [
    "#function for searching for pattern\n",
    "\n",
    "def find_pattern_in_text(pattern, pdf_text):\n",
    "    \n",
    "    search_result = []\n",
    "\n",
    "    for text in pdf_text[1:]:\n",
    "    \n",
    "        for match in re.finditer(pattern,text):     \n",
    "            #print(match.span()) \n",
    "            #print(match.group())\n",
    "            search_result.append(match.group())\n",
    "        \n",
    "    return search_result\n",
    "    "
   ]
  },
  {
   "cell_type": "code",
   "execution_count": 4,
   "id": "48394842",
   "metadata": {},
   "outputs": [],
   "source": [
    "#open file\n",
    "\n",
    "myfile = r's12864-023-09114-w.pdf' #please enter file name and path here\n",
    "\n",
    "mypdf = open(myfile,'rb')\n",
    "\n",
    "pdf_reader = PyPDF2.PdfReader(mypdf)\n",
    "\n",
    "\n",
    "#extracting the text\n",
    "\n",
    "pdf_text = [0]\n",
    "\n",
    "for p in range(len(pdf_reader.pages)):\n",
    "    page = pdf_reader.pages[p]\n",
    "    pdf_text.append(page.extract_text())\n",
    "    \n",
    "mypdf.close()\n",
    "\n"
   ]
  },
  {
   "cell_type": "code",
   "execution_count": 5,
   "id": "14af42ea",
   "metadata": {},
   "outputs": [
    {
     "name": "stdout",
     "output_type": "stream",
     "text": [
      "Here are the things that this notebook can scan a paper for:\n",
      "1:refseq_pattern, \n",
      "2:genbank_nucleotide_pattern, \n",
      "3:genbank_protein_pattern, \n",
      "4:genbank_WGS_pattern, \n",
      "5:sra_bioproject_pattern, \n",
      "6:sra_biosample_pattern, \n",
      "7:sra_experiment_pattern, \n",
      "8:sra_runnumber_pattern \n",
      "\n",
      "Please enter your choice(s): \n",
      "1\n",
      "2\n",
      "3\n",
      "4\n",
      "5\n",
      "6\n",
      "\n",
      "Choices received :\n",
      "['1', '2', '3', '4', '5', '6']\n"
     ]
    }
   ],
   "source": [
    "#for user to enter choices\n",
    "\n",
    "choice_input = []\n",
    "choices_allowed_list =['1', '2', '3', '4', '5', '6', '7', '8']\n",
    "\n",
    "print('Here are the things that this notebook can scan a paper for:\\n1:refseq_pattern, \\n2:genbank_nucleotide_pattern, \\n3:genbank_protein_pattern, \\n4:genbank_WGS_pattern, \\n5:sra_bioproject_pattern, \\n6:sra_biosample_pattern, \\n7:sra_experiment_pattern, \\n8:sra_runnumber_pattern \\n')\n",
    "print(\"Please enter your choice(s): \")\n",
    "\n",
    "while True:\n",
    "    user_choice = input()\n",
    "    if user_choice:\n",
    "        if user_choice in choices_allowed_list:\n",
    "            choice_input.append(user_choice)\n",
    "        else:\n",
    "            print('Sorry that is not a valid choice.')\n",
    "    else:\n",
    "        break\n",
    "\n",
    "print('Choices received :')\n",
    "print(choice_input)"
   ]
  },
  {
   "cell_type": "code",
   "execution_count": 6,
   "id": "511583a5",
   "metadata": {},
   "outputs": [
    {
     "name": "stdout",
     "output_type": "stream",
     "text": [
      "['[A-Z]{2}_\\\\d{1,6}', '[A-Z]{1,2}\\\\d{5,8}', '[A-Z]{3}\\\\d{5|7}', '[A-Z]{4|6}\\\\d{2}\\\\d{6,}', '[A-Z]{5}\\\\d{6,}', '[A-Z]{4}\\\\d{5,}']\n"
     ]
    }
   ],
   "source": [
    "patterns_to_run = []\n",
    "\n",
    "for choice in choice_input:\n",
    "    retrieve_pattern_from_choice = pattern_choice_dict[int(choice)]\n",
    "    patterns_to_run.append(retrieve_pattern_from_choice)\n",
    "\n",
    "print(patterns_to_run)"
   ]
  },
  {
   "cell_type": "code",
   "execution_count": 7,
   "id": "57038afb",
   "metadata": {},
   "outputs": [
    {
     "name": "stdout",
     "output_type": "stream",
     "text": [
      "['SA_2022', 'SA_2022', 'SA_2022']\n",
      "['ON563414', 'ON563414', 'ON563414', 'ON563414', 'ON563414', 'ON563414', 'OP120937', 'OP120938', 'NA863094']\n",
      "[]\n",
      "[]\n",
      "['PRJNA863094']\n",
      "['RJNA863094']\n"
     ]
    }
   ],
   "source": [
    "for pattern in patterns_to_run:\n",
    "    \n",
    "    testresult = find_pattern_in_text(pattern, pdf_text)\n",
    "    print(testresult)\n",
    "    \n",
    "    "
   ]
  },
  {
   "cell_type": "code",
   "execution_count": null,
   "id": "a8773863",
   "metadata": {},
   "outputs": [],
   "source": []
  },
  {
   "cell_type": "code",
   "execution_count": null,
   "id": "e028a33c",
   "metadata": {},
   "outputs": [],
   "source": []
  },
  {
   "cell_type": "code",
   "execution_count": null,
   "id": "33358834",
   "metadata": {},
   "outputs": [],
   "source": []
  },
  {
   "cell_type": "markdown",
   "id": "d7329bc0",
   "metadata": {},
   "source": [
    "Improvements:\n",
    "\n",
    "- not having repeated results in the list\n",
    "- output improvements: print choice + result of the choice\n",
    "- turning it into a proper python script\n"
   ]
  },
  {
   "cell_type": "code",
   "execution_count": null,
   "id": "46701f00",
   "metadata": {},
   "outputs": [],
   "source": [
    "#pattern = r'[A-Z]{2}\\d{5}' #pattern for experiment number in SRA"
   ]
  },
  {
   "cell_type": "code",
   "execution_count": null,
   "id": "aef4af41",
   "metadata": {},
   "outputs": [],
   "source": [
    "#print(pdf_text)"
   ]
  },
  {
   "cell_type": "code",
   "execution_count": null,
   "id": "5a8a7fda",
   "metadata": {},
   "outputs": [],
   "source": [
    "#test script\n",
    "\n",
    "# search_result = []\n",
    "\n",
    "# for text in pdf_text[1:]:\n",
    "    \n",
    "#     for match in re.finditer(pattern,text):     \n",
    "#         #print(match.span()) \n",
    "#         #print(match.group())\n",
    "#         search_result.append(match.group())\n",
    "        \n",
    "# print(search_result)"
   ]
  },
  {
   "cell_type": "code",
   "execution_count": null,
   "id": "1cdf64f1",
   "metadata": {},
   "outputs": [],
   "source": [
    "# testresult = find_pattern_in_text(pattern, pdf_text)\n",
    "# print(testresult)"
   ]
  }
 ],
 "metadata": {
  "kernelspec": {
   "display_name": "Python 3 (ipykernel)",
   "language": "python",
   "name": "python3"
  },
  "language_info": {
   "codemirror_mode": {
    "name": "ipython",
    "version": 3
   },
   "file_extension": ".py",
   "mimetype": "text/x-python",
   "name": "python",
   "nbconvert_exporter": "python",
   "pygments_lexer": "ipython3",
   "version": "3.9.13"
  }
 },
 "nbformat": 4,
 "nbformat_minor": 5
}
